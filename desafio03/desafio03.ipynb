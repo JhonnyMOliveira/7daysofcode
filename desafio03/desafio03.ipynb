{
 "cells": [
  {
   "cell_type": "markdown",
   "id": "a55c44bc",
   "metadata": {},
   "source": [
    "# Dia 3 - Limpeza e Enriquecimento de Dados\n",
    "\n",
    "Neste terceiro desafio do #7DaysOfCode, vamos entender a quantidade e quando se emprestaram os livros, no intuito de promover o uso da informação.\n",
    "\n",
    "Vamos nessa!"
   ]
  },
  {
   "cell_type": "markdown",
   "id": "428a9f4f",
   "metadata": {},
   "source": [
    "### Importando bibliotecas"
   ]
  },
  {
   "cell_type": "code",
   "execution_count": 97,
   "id": "fde29223",
   "metadata": {},
   "outputs": [],
   "source": [
    "import pandas as pd"
   ]
  },
  {
   "cell_type": "markdown",
   "id": "9dd3dde8",
   "metadata": {},
   "source": [
    "### Importando o Dataset\n",
    "\n",
    "Importamos o Dataset gerado no Desafio02, que está salvo como `dataset_completo.csv`"
   ]
  },
  {
   "cell_type": "code",
   "execution_count": 98,
   "id": "871bac41",
   "metadata": {},
   "outputs": [],
   "source": [
    "df = pd.read_csv('../desafio03/dataset_completo.csv')"
   ]
  },
  {
   "cell_type": "code",
   "execution_count": 99,
   "id": "d85dbcd0",
   "metadata": {},
   "outputs": [
    {
     "data": {
      "text/html": [
       "<div>\n",
       "<style scoped>\n",
       "    .dataframe tbody tr th:only-of-type {\n",
       "        vertical-align: middle;\n",
       "    }\n",
       "\n",
       "    .dataframe tbody tr th {\n",
       "        vertical-align: top;\n",
       "    }\n",
       "\n",
       "    .dataframe thead th {\n",
       "        text-align: right;\n",
       "    }\n",
       "</style>\n",
       "<table border=\"1\" class=\"dataframe\">\n",
       "  <thead>\n",
       "    <tr style=\"text-align: right;\">\n",
       "      <th></th>\n",
       "      <th>id_emprestimo</th>\n",
       "      <th>codigo_barras</th>\n",
       "      <th>data_renovacao</th>\n",
       "      <th>data_emprestimo</th>\n",
       "      <th>data_devolucao</th>\n",
       "      <th>matricula_ou_siape</th>\n",
       "      <th>tipo_vinculo_usuario</th>\n",
       "      <th>id_exemplar</th>\n",
       "      <th>colecao</th>\n",
       "      <th>biblioteca</th>\n",
       "      <th>status_material</th>\n",
       "      <th>localizacao</th>\n",
       "      <th>classe_cdu</th>\n",
       "    </tr>\n",
       "  </thead>\n",
       "  <tbody>\n",
       "    <tr>\n",
       "      <th>0</th>\n",
       "      <td>709684</td>\n",
       "      <td>L095049</td>\n",
       "      <td>NaN</td>\n",
       "      <td>2010-01-04 07:44:10.721</td>\n",
       "      <td>2010-01-05 16:26:12.662</td>\n",
       "      <td>2.008023e+09</td>\n",
       "      <td>ALUNO DE GRADUAÇÃO</td>\n",
       "      <td>13259.0</td>\n",
       "      <td>Acervo Circulante</td>\n",
       "      <td>Biblioteca Central Zila Mamede</td>\n",
       "      <td>REGULAR</td>\n",
       "      <td>630</td>\n",
       "      <td>Ciências aplicadas</td>\n",
       "    </tr>\n",
       "    <tr>\n",
       "      <th>1</th>\n",
       "      <td>709685</td>\n",
       "      <td>L167050</td>\n",
       "      <td>NaN</td>\n",
       "      <td>2010-01-04 07:44:10.750</td>\n",
       "      <td>2010-01-12 07:34:13.934</td>\n",
       "      <td>2.008023e+09</td>\n",
       "      <td>ALUNO DE GRADUAÇÃO</td>\n",
       "      <td>70865.0</td>\n",
       "      <td>Acervo Circulante</td>\n",
       "      <td>Biblioteca Central Zila Mamede</td>\n",
       "      <td>REGULAR</td>\n",
       "      <td>647</td>\n",
       "      <td>Ciências aplicadas</td>\n",
       "    </tr>\n",
       "    <tr>\n",
       "      <th>2</th>\n",
       "      <td>709686</td>\n",
       "      <td>2006017618</td>\n",
       "      <td>2010-01-26 08:07:01.738</td>\n",
       "      <td>2010-01-04 08:08:44.081</td>\n",
       "      <td>2010-02-25 07:36:25.800</td>\n",
       "      <td>2.008112e+09</td>\n",
       "      <td>ALUNO DE PÓS-GRADUAÇÃO</td>\n",
       "      <td>195347.0</td>\n",
       "      <td>Acervo Circulante</td>\n",
       "      <td>Biblioteca Setorial Prof. Rodolfo Helinski - E...</td>\n",
       "      <td>REGULAR</td>\n",
       "      <td>640</td>\n",
       "      <td>Ciências aplicadas</td>\n",
       "    </tr>\n",
       "  </tbody>\n",
       "</table>\n",
       "</div>"
      ],
      "text/plain": [
       "   id_emprestimo codigo_barras           data_renovacao  \\\n",
       "0         709684       L095049                      NaN   \n",
       "1         709685       L167050                      NaN   \n",
       "2         709686    2006017618  2010-01-26 08:07:01.738   \n",
       "\n",
       "           data_emprestimo           data_devolucao  matricula_ou_siape  \\\n",
       "0  2010-01-04 07:44:10.721  2010-01-05 16:26:12.662        2.008023e+09   \n",
       "1  2010-01-04 07:44:10.750  2010-01-12 07:34:13.934        2.008023e+09   \n",
       "2  2010-01-04 08:08:44.081  2010-02-25 07:36:25.800        2.008112e+09   \n",
       "\n",
       "     tipo_vinculo_usuario  id_exemplar            colecao  \\\n",
       "0      ALUNO DE GRADUAÇÃO      13259.0  Acervo Circulante   \n",
       "1      ALUNO DE GRADUAÇÃO      70865.0  Acervo Circulante   \n",
       "2  ALUNO DE PÓS-GRADUAÇÃO     195347.0  Acervo Circulante   \n",
       "\n",
       "                                          biblioteca status_material  \\\n",
       "0                     Biblioteca Central Zila Mamede         REGULAR   \n",
       "1                     Biblioteca Central Zila Mamede         REGULAR   \n",
       "2  Biblioteca Setorial Prof. Rodolfo Helinski - E...         REGULAR   \n",
       "\n",
       "   localizacao          classe_cdu  \n",
       "0          630  Ciências aplicadas  \n",
       "1          647  Ciências aplicadas  \n",
       "2          640  Ciências aplicadas  "
      ]
     },
     "execution_count": 99,
     "metadata": {},
     "output_type": "execute_result"
    }
   ],
   "source": [
    "df.head(3)"
   ]
  },
  {
   "cell_type": "markdown",
   "id": "1b57a861",
   "metadata": {},
   "source": [
    "### Realizando a conversão das colunas de data para `datetime`\n",
    "\n",
    "É necessário reconverter as colunas `data_emprestimo`, `data_renovacao` e `data_devolucao` para o formato `datetime` (como já haviamos feito no desafio01), pois o `pandas` não reconhece automaticamente o tipo após importar arquivos `.csv`."
   ]
  },
  {
   "cell_type": "code",
   "execution_count": 100,
   "id": "7d840454",
   "metadata": {},
   "outputs": [
    {
     "data": {
      "text/html": [
       "<div>\n",
       "<style scoped>\n",
       "    .dataframe tbody tr th:only-of-type {\n",
       "        vertical-align: middle;\n",
       "    }\n",
       "\n",
       "    .dataframe tbody tr th {\n",
       "        vertical-align: top;\n",
       "    }\n",
       "\n",
       "    .dataframe thead th {\n",
       "        text-align: right;\n",
       "    }\n",
       "</style>\n",
       "<table border=\"1\" class=\"dataframe\">\n",
       "  <thead>\n",
       "    <tr style=\"text-align: right;\">\n",
       "      <th></th>\n",
       "      <th>id_emprestimo</th>\n",
       "      <th>codigo_barras</th>\n",
       "      <th>data_renovacao</th>\n",
       "      <th>data_emprestimo</th>\n",
       "      <th>data_devolucao</th>\n",
       "      <th>matricula_ou_siape</th>\n",
       "      <th>tipo_vinculo_usuario</th>\n",
       "      <th>id_exemplar</th>\n",
       "      <th>colecao</th>\n",
       "      <th>biblioteca</th>\n",
       "      <th>status_material</th>\n",
       "      <th>localizacao</th>\n",
       "      <th>classe_cdu</th>\n",
       "    </tr>\n",
       "  </thead>\n",
       "  <tbody>\n",
       "    <tr>\n",
       "      <th>0</th>\n",
       "      <td>709684</td>\n",
       "      <td>L095049</td>\n",
       "      <td>NaT</td>\n",
       "      <td>2010-01-04 07:44:10.721</td>\n",
       "      <td>2010-01-05 16:26:12.662</td>\n",
       "      <td>2008023265.0</td>\n",
       "      <td>ALUNO DE GRADUAÇÃO</td>\n",
       "      <td>13259.0</td>\n",
       "      <td>Acervo Circulante</td>\n",
       "      <td>Biblioteca Central Zila Mamede</td>\n",
       "      <td>REGULAR</td>\n",
       "      <td>630</td>\n",
       "      <td>Ciências aplicadas</td>\n",
       "    </tr>\n",
       "    <tr>\n",
       "      <th>1</th>\n",
       "      <td>709685</td>\n",
       "      <td>L167050</td>\n",
       "      <td>NaT</td>\n",
       "      <td>2010-01-04 07:44:10.750</td>\n",
       "      <td>2010-01-12 07:34:13.934</td>\n",
       "      <td>2008023265.0</td>\n",
       "      <td>ALUNO DE GRADUAÇÃO</td>\n",
       "      <td>70865.0</td>\n",
       "      <td>Acervo Circulante</td>\n",
       "      <td>Biblioteca Central Zila Mamede</td>\n",
       "      <td>REGULAR</td>\n",
       "      <td>647</td>\n",
       "      <td>Ciências aplicadas</td>\n",
       "    </tr>\n",
       "  </tbody>\n",
       "</table>\n",
       "</div>"
      ],
      "text/plain": [
       "   id_emprestimo codigo_barras data_renovacao         data_emprestimo  \\\n",
       "0         709684       L095049            NaT 2010-01-04 07:44:10.721   \n",
       "1         709685       L167050            NaT 2010-01-04 07:44:10.750   \n",
       "\n",
       "           data_devolucao matricula_ou_siape tipo_vinculo_usuario  \\\n",
       "0 2010-01-05 16:26:12.662       2008023265.0   ALUNO DE GRADUAÇÃO   \n",
       "1 2010-01-12 07:34:13.934       2008023265.0   ALUNO DE GRADUAÇÃO   \n",
       "\n",
       "   id_exemplar            colecao                      biblioteca  \\\n",
       "0      13259.0  Acervo Circulante  Biblioteca Central Zila Mamede   \n",
       "1      70865.0  Acervo Circulante  Biblioteca Central Zila Mamede   \n",
       "\n",
       "  status_material  localizacao          classe_cdu  \n",
       "0         REGULAR          630  Ciências aplicadas  \n",
       "1         REGULAR          647  Ciências aplicadas  "
      ]
     },
     "execution_count": 100,
     "metadata": {},
     "output_type": "execute_result"
    }
   ],
   "source": [
    "# Convertendo `matricula_ou_siape` e, `string`\n",
    "df['matricula_ou_siape'] = df['matricula_ou_siape'].astype(str)\n",
    "\n",
    "# Verificando padrão das colunas de datas\n",
    "\n",
    "df['data_emprestimo'] = pd.to_datetime(df['data_emprestimo'], errors='coerce')\n",
    "df['data_devolucao'] = pd.to_datetime(df['data_devolucao'], errors='coerce')\n",
    "df['data_renovacao'] = pd.to_datetime(df['data_renovacao'], errors='coerce')\n",
    "df.head(2)"
   ]
  },
  {
   "cell_type": "markdown",
   "id": "2bc3b1fd",
   "metadata": {},
   "source": [
    "### Verificando se há linhas válidas de empréstimos para todos os anos"
   ]
  },
  {
   "cell_type": "code",
   "execution_count": 101,
   "id": "ecc9c75f",
   "metadata": {},
   "outputs": [
    {
     "data": {
      "text/plain": [
       "data_emprestimo\n",
       "2013    259598\n",
       "2012    250260\n",
       "2014    235725\n",
       "2011    229548\n",
       "2017    229527\n",
       "2016    226380\n",
       "2015    225317\n",
       "2018    202613\n",
       "2010    196147\n",
       "2019    180028\n",
       "2020     26636\n",
       "Name: count, dtype: int64"
      ]
     },
     "execution_count": 101,
     "metadata": {},
     "output_type": "execute_result"
    }
   ],
   "source": [
    "df['data_emprestimo'].dt.year.value_counts()"
   ]
  },
  {
   "cell_type": "code",
   "execution_count": 102,
   "id": "01541ae7",
   "metadata": {},
   "outputs": [
    {
     "data": {
      "text/plain": [
       "np.int64(0)"
      ]
     },
     "execution_count": 102,
     "metadata": {},
     "output_type": "execute_result"
    }
   ],
   "source": [
    "df['data_emprestimo'].isnull().sum()"
   ]
  },
  {
   "cell_type": "markdown",
   "id": "b8fb6d81",
   "metadata": {},
   "source": [
    "### Remoção de duplicatas por `id_emprestimo`\n",
    "\n",
    "Para garantir que cada empréstimo seja contabilizado apenas uma vez, removemos registros duplicados com base no identificador único de empréstimo."
   ]
  },
  {
   "cell_type": "code",
   "execution_count": 103,
   "id": "5ce81853",
   "metadata": {},
   "outputs": [],
   "source": [
    "# Removendo duplicações por id_emprestimo\n",
    "emprestimos = df.drop_duplicates(subset='id_emprestimo')"
   ]
  },
  {
   "cell_type": "code",
   "execution_count": 105,
   "id": "44562e42",
   "metadata": {},
   "outputs": [
    {
     "data": {
      "text/html": [
       "<div>\n",
       "<style scoped>\n",
       "    .dataframe tbody tr th:only-of-type {\n",
       "        vertical-align: middle;\n",
       "    }\n",
       "\n",
       "    .dataframe tbody tr th {\n",
       "        vertical-align: top;\n",
       "    }\n",
       "\n",
       "    .dataframe thead th {\n",
       "        text-align: right;\n",
       "    }\n",
       "</style>\n",
       "<table border=\"1\" class=\"dataframe\">\n",
       "  <thead>\n",
       "    <tr style=\"text-align: right;\">\n",
       "      <th></th>\n",
       "      <th>id_emprestimo</th>\n",
       "      <th>codigo_barras</th>\n",
       "      <th>data_renovacao</th>\n",
       "      <th>data_emprestimo</th>\n",
       "      <th>data_devolucao</th>\n",
       "      <th>matricula_ou_siape</th>\n",
       "      <th>tipo_vinculo_usuario</th>\n",
       "      <th>id_exemplar</th>\n",
       "      <th>colecao</th>\n",
       "      <th>biblioteca</th>\n",
       "      <th>status_material</th>\n",
       "      <th>localizacao</th>\n",
       "      <th>classe_cdu</th>\n",
       "    </tr>\n",
       "  </thead>\n",
       "  <tbody>\n",
       "    <tr>\n",
       "      <th>0</th>\n",
       "      <td>709684</td>\n",
       "      <td>L095049</td>\n",
       "      <td>NaT</td>\n",
       "      <td>2010-01-04 07:44:10.721</td>\n",
       "      <td>2010-01-05 16:26:12.662</td>\n",
       "      <td>2008023265.0</td>\n",
       "      <td>ALUNO DE GRADUAÇÃO</td>\n",
       "      <td>13259.0</td>\n",
       "      <td>Acervo Circulante</td>\n",
       "      <td>Biblioteca Central Zila Mamede</td>\n",
       "      <td>REGULAR</td>\n",
       "      <td>630</td>\n",
       "      <td>Ciências aplicadas</td>\n",
       "    </tr>\n",
       "    <tr>\n",
       "      <th>1</th>\n",
       "      <td>709685</td>\n",
       "      <td>L167050</td>\n",
       "      <td>NaT</td>\n",
       "      <td>2010-01-04 07:44:10.750</td>\n",
       "      <td>2010-01-12 07:34:13.934</td>\n",
       "      <td>2008023265.0</td>\n",
       "      <td>ALUNO DE GRADUAÇÃO</td>\n",
       "      <td>70865.0</td>\n",
       "      <td>Acervo Circulante</td>\n",
       "      <td>Biblioteca Central Zila Mamede</td>\n",
       "      <td>REGULAR</td>\n",
       "      <td>647</td>\n",
       "      <td>Ciências aplicadas</td>\n",
       "    </tr>\n",
       "    <tr>\n",
       "      <th>2</th>\n",
       "      <td>709686</td>\n",
       "      <td>2006017618</td>\n",
       "      <td>2010-01-26 08:07:01.738</td>\n",
       "      <td>2010-01-04 08:08:44.081</td>\n",
       "      <td>2010-02-25 07:36:25.800</td>\n",
       "      <td>2008112114.0</td>\n",
       "      <td>ALUNO DE PÓS-GRADUAÇÃO</td>\n",
       "      <td>195347.0</td>\n",
       "      <td>Acervo Circulante</td>\n",
       "      <td>Biblioteca Setorial Prof. Rodolfo Helinski - E...</td>\n",
       "      <td>REGULAR</td>\n",
       "      <td>640</td>\n",
       "      <td>Ciências aplicadas</td>\n",
       "    </tr>\n",
       "    <tr>\n",
       "      <th>3</th>\n",
       "      <td>709687</td>\n",
       "      <td>L184117</td>\n",
       "      <td>2010-01-18 11:07:46.470</td>\n",
       "      <td>2010-01-04 08:24:21.284</td>\n",
       "      <td>2010-02-03 08:58:45.692</td>\n",
       "      <td>200721119.0</td>\n",
       "      <td>ALUNO DE GRADUAÇÃO</td>\n",
       "      <td>131639.0</td>\n",
       "      <td>Acervo Circulante</td>\n",
       "      <td>Biblioteca Central Zila Mamede</td>\n",
       "      <td>REGULAR</td>\n",
       "      <td>609</td>\n",
       "      <td>Ciências aplicadas</td>\n",
       "    </tr>\n",
       "    <tr>\n",
       "      <th>4</th>\n",
       "      <td>709688</td>\n",
       "      <td>2007027500</td>\n",
       "      <td>2010-01-19 15:59:26.464</td>\n",
       "      <td>2010-01-04 08:27:33.569</td>\n",
       "      <td>2010-02-03 13:06:30.662</td>\n",
       "      <td>2009045971.0</td>\n",
       "      <td>ALUNO DE GRADUAÇÃO</td>\n",
       "      <td>225646.0</td>\n",
       "      <td>Acervo Circulante</td>\n",
       "      <td>Biblioteca Central Zila Mamede</td>\n",
       "      <td>REGULAR</td>\n",
       "      <td>686</td>\n",
       "      <td>Ciências aplicadas</td>\n",
       "    </tr>\n",
       "  </tbody>\n",
       "</table>\n",
       "</div>"
      ],
      "text/plain": [
       "   id_emprestimo codigo_barras          data_renovacao  \\\n",
       "0         709684       L095049                     NaT   \n",
       "1         709685       L167050                     NaT   \n",
       "2         709686    2006017618 2010-01-26 08:07:01.738   \n",
       "3         709687       L184117 2010-01-18 11:07:46.470   \n",
       "4         709688    2007027500 2010-01-19 15:59:26.464   \n",
       "\n",
       "          data_emprestimo          data_devolucao matricula_ou_siape  \\\n",
       "0 2010-01-04 07:44:10.721 2010-01-05 16:26:12.662       2008023265.0   \n",
       "1 2010-01-04 07:44:10.750 2010-01-12 07:34:13.934       2008023265.0   \n",
       "2 2010-01-04 08:08:44.081 2010-02-25 07:36:25.800       2008112114.0   \n",
       "3 2010-01-04 08:24:21.284 2010-02-03 08:58:45.692        200721119.0   \n",
       "4 2010-01-04 08:27:33.569 2010-02-03 13:06:30.662       2009045971.0   \n",
       "\n",
       "     tipo_vinculo_usuario  id_exemplar            colecao  \\\n",
       "0      ALUNO DE GRADUAÇÃO      13259.0  Acervo Circulante   \n",
       "1      ALUNO DE GRADUAÇÃO      70865.0  Acervo Circulante   \n",
       "2  ALUNO DE PÓS-GRADUAÇÃO     195347.0  Acervo Circulante   \n",
       "3      ALUNO DE GRADUAÇÃO     131639.0  Acervo Circulante   \n",
       "4      ALUNO DE GRADUAÇÃO     225646.0  Acervo Circulante   \n",
       "\n",
       "                                          biblioteca status_material  \\\n",
       "0                     Biblioteca Central Zila Mamede         REGULAR   \n",
       "1                     Biblioteca Central Zila Mamede         REGULAR   \n",
       "2  Biblioteca Setorial Prof. Rodolfo Helinski - E...         REGULAR   \n",
       "3                     Biblioteca Central Zila Mamede         REGULAR   \n",
       "4                     Biblioteca Central Zila Mamede         REGULAR   \n",
       "\n",
       "   localizacao          classe_cdu  \n",
       "0          630  Ciências aplicadas  \n",
       "1          647  Ciências aplicadas  \n",
       "2          640  Ciências aplicadas  \n",
       "3          609  Ciências aplicadas  \n",
       "4          686  Ciências aplicadas  "
      ]
     },
     "execution_count": 105,
     "metadata": {},
     "output_type": "execute_result"
    }
   ],
   "source": [
    "emprestimos.head()"
   ]
  },
  {
   "cell_type": "markdown",
   "id": "7dcf2843",
   "metadata": {},
   "source": [
    "### Iniciando a análise exploratória dos dados\n",
    "\n",
    "Verificando se há ocorrência de, em um mesmo empréstimo, mais de um livro haver sido emprestado."
   ]
  },
  {
   "cell_type": "code",
   "execution_count": 106,
   "id": "18c9f88a",
   "metadata": {},
   "outputs": [
    {
     "data": {
      "text/plain": [
       "0          False\n",
       "1          False\n",
       "2          False\n",
       "3          False\n",
       "4          False\n",
       "           ...  \n",
       "2261774    False\n",
       "2261775    False\n",
       "2261776    False\n",
       "2261777    False\n",
       "2261778    False\n",
       "Name: id_emprestimo, Length: 2257981, dtype: bool"
      ]
     },
     "execution_count": 106,
     "metadata": {},
     "output_type": "execute_result"
    }
   ],
   "source": [
    "# Testando se algum elemento em `id_emprestimo` se repete ao longo do dataset.\n",
    "emprestimos['id_emprestimo'].duplicated()"
   ]
  },
  {
   "cell_type": "markdown",
   "id": "99850c2d",
   "metadata": {},
   "source": [
    "Como `id_emprestimo` não se repete, isso indica que cada empréstimo representa um único exemplar emprestado, e cada exemplar corresponde a um empréstimo individual."
   ]
  },
  {
   "cell_type": "markdown",
   "id": "2ba7ef07",
   "metadata": {},
   "source": [
    "### Análise Anual de Empréstimos\n",
    "\n",
    "O objetivo é contar a quantidade de empréstimos realizados por ano.\n",
    "\n",
    "Para isso, iremos utilizar o método `goupby()`"
   ]
  },
  {
   "cell_type": "code",
   "execution_count": 111,
   "id": "83e3a31c",
   "metadata": {},
   "outputs": [
    {
     "data": {
      "text/plain": [
       "data_emprestimo\n",
       "2010    196035\n",
       "2011    229360\n",
       "2012    250037\n",
       "2013    259286\n",
       "2014    235310\n",
       "2015    224853\n",
       "2016    225893\n",
       "2017    229040\n",
       "2018    202080\n",
       "2019    179526\n",
       "2020     26561\n",
       "Name: id_emprestimo, dtype: int64"
      ]
     },
     "execution_count": 111,
     "metadata": {},
     "output_type": "execute_result"
    }
   ],
   "source": [
    "emprestimos_ano = emprestimos.groupby(emprestimos['data_emprestimo'].dt.year)['id_emprestimo'].count()\n",
    "emprestimos_ano"
   ]
  },
  {
   "cell_type": "markdown",
   "id": "bcf542de",
   "metadata": {},
   "source": [
    "Podemos armazenar esse resultado em um novo DataFrame"
   ]
  },
  {
   "cell_type": "code",
   "execution_count": 112,
   "id": "b58155ca",
   "metadata": {},
   "outputs": [
    {
     "data": {
      "text/html": [
       "<div>\n",
       "<style scoped>\n",
       "    .dataframe tbody tr th:only-of-type {\n",
       "        vertical-align: middle;\n",
       "    }\n",
       "\n",
       "    .dataframe tbody tr th {\n",
       "        vertical-align: top;\n",
       "    }\n",
       "\n",
       "    .dataframe thead th {\n",
       "        text-align: right;\n",
       "    }\n",
       "</style>\n",
       "<table border=\"1\" class=\"dataframe\">\n",
       "  <thead>\n",
       "    <tr style=\"text-align: right;\">\n",
       "      <th></th>\n",
       "      <th>ano</th>\n",
       "      <th>quantidade_emprestimos</th>\n",
       "    </tr>\n",
       "  </thead>\n",
       "  <tbody>\n",
       "    <tr>\n",
       "      <th>0</th>\n",
       "      <td>2010</td>\n",
       "      <td>196035</td>\n",
       "    </tr>\n",
       "    <tr>\n",
       "      <th>1</th>\n",
       "      <td>2011</td>\n",
       "      <td>229360</td>\n",
       "    </tr>\n",
       "    <tr>\n",
       "      <th>2</th>\n",
       "      <td>2012</td>\n",
       "      <td>250037</td>\n",
       "    </tr>\n",
       "    <tr>\n",
       "      <th>3</th>\n",
       "      <td>2013</td>\n",
       "      <td>259286</td>\n",
       "    </tr>\n",
       "  </tbody>\n",
       "</table>\n",
       "</div>"
      ],
      "text/plain": [
       "    ano  quantidade_emprestimos\n",
       "0  2010                  196035\n",
       "1  2011                  229360\n",
       "2  2012                  250037\n",
       "3  2013                  259286"
      ]
     },
     "execution_count": 112,
     "metadata": {},
     "output_type": "execute_result"
    }
   ],
   "source": [
    "# Resetando o índice e renomeando as colunas\n",
    "emprestimos_por_ano = emprestimos_ano.reset_index()\n",
    "emprestimos_por_ano.columns = ['ano', 'quantidade_emprestimos']\n",
    "\n",
    "# Verificando o resultado\n",
    "emprestimos_por_ano.head(4)\n"
   ]
  },
  {
   "cell_type": "markdown",
   "id": "41df1046",
   "metadata": {},
   "source": [
    "### Plotando a relação Exemplares Emprestados x Ano\n",
    "\n",
    "Para isso, faremos o `import` do pacote `matplotlib`"
   ]
  },
  {
   "cell_type": "code",
   "execution_count": 113,
   "id": "5817a7f1",
   "metadata": {},
   "outputs": [
    {
     "data": {
      "image/png": "[encoded data removed]",
      "text/plain": [
       "<Figure size 1000x600 with 1 Axes>"
      ]
     },
     "metadata": {},
     "output_type": "display_data"
    }
   ],
   "source": [
    "import matplotlib.pyplot as plt\n",
    "\n",
    "# Plotando o gráfico de linha\n",
    "plt.figure(figsize=(10, 6))\n",
    "plt.plot(emprestimos_por_ano['ano'], emprestimos_por_ano['quantidade_emprestimos'], marker='o', linestyle='-', color='b')\n",
    "\n",
    "# Adicionando título e rótulos aos eixos\n",
    "plt.title('Quantidade de Empréstimos por Ano')\n",
    "plt.xlabel('Ano')\n",
    "plt.ylabel('Quantidade de Empréstimos')\n",
    "\n",
    "# Forçando a exibição de todos os anos no eixo X\n",
    "plt.xticks(ticks=emprestimos_por_ano['ano'])\n",
    "\n",
    "# Exibindo o gráfico\n",
    "plt.grid(True)\n",
    "plt.show()"
   ]
  },
  {
   "cell_type": "markdown",
   "id": "c7d1825a",
   "metadata": {},
   "source": [
    "### Análise Gráfica\n",
    "\n",
    "Observa-se uma tendência de crescimento no número de empréstimos entre 2010 e 2013, culminando no pico em 2013. A partir de 2014, os volumes iniciam uma leve retração, seguida de um período de estabilidade até 2017. No entanto, em 2018 e 2019, a biblioteca enfrenta quedas significativas, sem causa evidente nos dados — o que sugere a necessidade de investigação sobre possíveis fatores internos ou externos. Em 2020, há uma queda abrupta, compatível com o impacto da pandemia de COVID-19. A análise sugere que, salvo eventos excepcionais, a biblioteca vinha perdendo força em sua capacidade de atrair ou manter usuários após 2017."
   ]
  },
  {
   "cell_type": "markdown",
   "id": "52ebf8ab",
   "metadata": {},
   "source": [
    "### Análise Mensal de Empréstimos\n",
    "\n",
    "O objetivo é contar a quantidade de empréstimos realizados por `mês`."
   ]
  },
  {
   "cell_type": "code",
   "execution_count": 114,
   "id": "7a7515f4",
   "metadata": {},
   "outputs": [
    {
     "data": {
      "text/plain": [
       "data_emprestimo\n",
       "1      72067\n",
       "2     226587\n",
       "3     275310\n",
       "4     229953\n",
       "5     222844\n",
       "6     151633\n",
       "7     130611\n",
       "8     252681\n",
       "9     226791\n",
       "10    206434\n",
       "11    180597\n",
       "12     82473\n",
       "Name: id_emprestimo, dtype: int64"
      ]
     },
     "execution_count": 114,
     "metadata": {},
     "output_type": "execute_result"
    }
   ],
   "source": [
    "emprestimos_mes = emprestimos.groupby(emprestimos['data_emprestimo'].dt.month)['id_emprestimo'].count()\n",
    "emprestimos_mes"
   ]
  },
  {
   "cell_type": "code",
   "execution_count": 115,
   "id": "8480c500",
   "metadata": {},
   "outputs": [
    {
     "data": {
      "text/html": [
       "<div>\n",
       "<style scoped>\n",
       "    .dataframe tbody tr th:only-of-type {\n",
       "        vertical-align: middle;\n",
       "    }\n",
       "\n",
       "    .dataframe tbody tr th {\n",
       "        vertical-align: top;\n",
       "    }\n",
       "\n",
       "    .dataframe thead th {\n",
       "        text-align: right;\n",
       "    }\n",
       "</style>\n",
       "<table border=\"1\" class=\"dataframe\">\n",
       "  <thead>\n",
       "    <tr style=\"text-align: right;\">\n",
       "      <th></th>\n",
       "      <th>mês</th>\n",
       "      <th>quantidade_emprestimos</th>\n",
       "    </tr>\n",
       "  </thead>\n",
       "  <tbody>\n",
       "    <tr>\n",
       "      <th>0</th>\n",
       "      <td>1</td>\n",
       "      <td>72067</td>\n",
       "    </tr>\n",
       "    <tr>\n",
       "      <th>1</th>\n",
       "      <td>2</td>\n",
       "      <td>226587</td>\n",
       "    </tr>\n",
       "    <tr>\n",
       "      <th>2</th>\n",
       "      <td>3</td>\n",
       "      <td>275310</td>\n",
       "    </tr>\n",
       "    <tr>\n",
       "      <th>3</th>\n",
       "      <td>4</td>\n",
       "      <td>229953</td>\n",
       "    </tr>\n",
       "  </tbody>\n",
       "</table>\n",
       "</div>"
      ],
      "text/plain": [
       "   mês  quantidade_emprestimos\n",
       "0    1                   72067\n",
       "1    2                  226587\n",
       "2    3                  275310\n",
       "3    4                  229953"
      ]
     },
     "execution_count": 115,
     "metadata": {},
     "output_type": "execute_result"
    }
   ],
   "source": [
    "# Resetando o índice e renomeando as colunas\n",
    "emprestimos_por_mes = emprestimos_mes.reset_index()\n",
    "emprestimos_por_mes.columns = ['mês', 'quantidade_emprestimos']\n",
    "\n",
    "# Verificando o resultado\n",
    "emprestimos_por_mes.head(4)"
   ]
  },
  {
   "cell_type": "code",
   "execution_count": 116,
   "id": "9ae1842a",
   "metadata": {},
   "outputs": [
    {
     "data": {
      "text/plain": [
       "dtype('int32')"
      ]
     },
     "execution_count": 116,
     "metadata": {},
     "output_type": "execute_result"
    }
   ],
   "source": [
    "emprestimos_por_mes['mês'].dtype"
   ]
  },
  {
   "cell_type": "code",
   "execution_count": 117,
   "id": "6cad0b00",
   "metadata": {},
   "outputs": [
    {
     "data": {
      "text/plain": [
       "dtype('int64')"
      ]
     },
     "execution_count": 117,
     "metadata": {},
     "output_type": "execute_result"
    }
   ],
   "source": [
    "# Convertendo o número do mês para inteiro\n",
    "\n",
    "emprestimos_por_mes['mês'] = emprestimos_por_mes['mês'].astype(int)\n",
    "emprestimos_por_mes['mês'].dtype"
   ]
  },
  {
   "cell_type": "markdown",
   "id": "84a5c0d4",
   "metadata": {},
   "source": [
    "### Plotando a relação Exemplares Emprestados x Mês"
   ]
  },
  {
   "cell_type": "code",
   "execution_count": 118,
   "id": "3b7d82d1",
   "metadata": {},
   "outputs": [
    {
     "data": {
      "image/png": "[encoded data removed]",
      "text/plain": [
       "<Figure size 1000x600 with 1 Axes>"
      ]
     },
     "metadata": {},
     "output_type": "display_data"
    }
   ],
   "source": [
    "# Plotando o gráfico de linha\n",
    "plt.figure(figsize=(10, 6))\n",
    "plt.plot(emprestimos_por_mes['mês'], emprestimos_por_mes['quantidade_emprestimos'], marker='o', linestyle='-', color='r')\n",
    "\n",
    "# Adicionando título e rótulos aos eixos\n",
    "plt.title('Quantidade de Empréstimos por Mês')\n",
    "plt.xlabel('Mês')\n",
    "plt.ylabel('Quantidade de Empréstimos')\n",
    "\n",
    "# Forçando a exibição de todos os anos no eixo X\n",
    "plt.xticks(ticks=emprestimos_por_mes['mês'])\n",
    "\n",
    "# Exibindo o gráfico\n",
    "plt.grid(True)\n",
    "plt.show()\n"
   ]
  },
  {
   "cell_type": "markdown",
   "id": "50e678b4",
   "metadata": {},
   "source": [
    "### Utilizando os meses com seus nomes"
   ]
  },
  {
   "cell_type": "code",
   "execution_count": 119,
   "id": "83efc85b",
   "metadata": {},
   "outputs": [],
   "source": [
    "# Convertendo os meses de número para nomes\n",
    "\n",
    "nomes_meses = [\n",
    "    'jan', 'fev', 'mar', 'abr', 'mai', 'jun',\n",
    "    'jul', 'ago', 'set', 'out', 'nov', 'dez'\n",
    "]\n",
    "\n",
    "# Substitui os números pelos nomes\n",
    "emprestimos_por_mes['mês'] = emprestimos_por_mes['mês'].apply(lambda x: nomes_meses[x - 1])"
   ]
  },
  {
   "cell_type": "code",
   "execution_count": 61,
   "id": "6605878e",
   "metadata": {},
   "outputs": [
    {
     "data": {
      "text/html": [
       "<div>\n",
       "<style scoped>\n",
       "    .dataframe tbody tr th:only-of-type {\n",
       "        vertical-align: middle;\n",
       "    }\n",
       "\n",
       "    .dataframe tbody tr th {\n",
       "        vertical-align: top;\n",
       "    }\n",
       "\n",
       "    .dataframe thead th {\n",
       "        text-align: right;\n",
       "    }\n",
       "</style>\n",
       "<table border=\"1\" class=\"dataframe\">\n",
       "  <thead>\n",
       "    <tr style=\"text-align: right;\">\n",
       "      <th></th>\n",
       "      <th>mês</th>\n",
       "      <th>quantidade_emprestimos</th>\n",
       "    </tr>\n",
       "  </thead>\n",
       "  <tbody>\n",
       "    <tr>\n",
       "      <th>0</th>\n",
       "      <td>janeiro</td>\n",
       "      <td>72183</td>\n",
       "    </tr>\n",
       "    <tr>\n",
       "      <th>1</th>\n",
       "      <td>fevereiro</td>\n",
       "      <td>226945</td>\n",
       "    </tr>\n",
       "    <tr>\n",
       "      <th>2</th>\n",
       "      <td>março</td>\n",
       "      <td>275780</td>\n",
       "    </tr>\n",
       "    <tr>\n",
       "      <th>3</th>\n",
       "      <td>abril</td>\n",
       "      <td>230339</td>\n",
       "    </tr>\n",
       "    <tr>\n",
       "      <th>4</th>\n",
       "      <td>maio</td>\n",
       "      <td>223233</td>\n",
       "    </tr>\n",
       "    <tr>\n",
       "      <th>5</th>\n",
       "      <td>junho</td>\n",
       "      <td>151940</td>\n",
       "    </tr>\n",
       "    <tr>\n",
       "      <th>6</th>\n",
       "      <td>julho</td>\n",
       "      <td>130812</td>\n",
       "    </tr>\n",
       "    <tr>\n",
       "      <th>7</th>\n",
       "      <td>agosto</td>\n",
       "      <td>253099</td>\n",
       "    </tr>\n",
       "    <tr>\n",
       "      <th>8</th>\n",
       "      <td>setembro</td>\n",
       "      <td>227147</td>\n",
       "    </tr>\n",
       "    <tr>\n",
       "      <th>9</th>\n",
       "      <td>outubro</td>\n",
       "      <td>206765</td>\n",
       "    </tr>\n",
       "    <tr>\n",
       "      <th>10</th>\n",
       "      <td>novembro</td>\n",
       "      <td>180909</td>\n",
       "    </tr>\n",
       "    <tr>\n",
       "      <th>11</th>\n",
       "      <td>dezembro</td>\n",
       "      <td>82627</td>\n",
       "    </tr>\n",
       "  </tbody>\n",
       "</table>\n",
       "</div>"
      ],
      "text/plain": [
       "          mês  quantidade_emprestimos\n",
       "0     janeiro                   72183\n",
       "1   fevereiro                  226945\n",
       "2       março                  275780\n",
       "3       abril                  230339\n",
       "4        maio                  223233\n",
       "5       junho                  151940\n",
       "6       julho                  130812\n",
       "7      agosto                  253099\n",
       "8    setembro                  227147\n",
       "9     outubro                  206765\n",
       "10   novembro                  180909\n",
       "11   dezembro                   82627"
      ]
     },
     "execution_count": 61,
     "metadata": {},
     "output_type": "execute_result"
    }
   ],
   "source": [
    "emprestimos_por_mes"
   ]
  },
  {
   "cell_type": "code",
   "execution_count": 120,
   "id": "88ccf8d4",
   "metadata": {},
   "outputs": [
    {
     "data": {
      "image/png": "[encoded data removed]",
      "text/plain": [
       "<Figure size 1000x600 with 1 Axes>"
      ]
     },
     "metadata": {},
     "output_type": "display_data"
    }
   ],
   "source": [
    "# Plotando o gráfico de linha\n",
    "plt.figure(figsize=(10, 6))\n",
    "plt.plot(emprestimos_por_mes['mês'], emprestimos_por_mes['quantidade_emprestimos'], marker='o', linestyle='-', color='r')\n",
    "\n",
    "# Adicionando título e rótulos aos eixos\n",
    "plt.title('Quantidade de Empréstimos por Mês')\n",
    "plt.xlabel('Mês')\n",
    "plt.ylabel('Quantidade de Empréstimos')\n",
    "\n",
    "# Forçando a exibição de todos os anos no eixo X\n",
    "plt.xticks(ticks=emprestimos_por_mes['mês'])\n",
    "\n",
    "# Exibindo o gráfico\n",
    "plt.grid(True)\n",
    "plt.show()"
   ]
  },
  {
   "cell_type": "markdown",
   "id": "05416f42",
   "metadata": {},
   "source": [
    "### Análise Gráfica\n",
    "\n",
    "A análise mensal dos empréstimos demonstra um comportamento cíclico ao longo do ano. Há um crescimento gradual entre fevereiro e maio, com pico em março, possivelmente relacionado ao início do semestre letivo e aumento da demanda acadêmica.\n",
    "\n",
    "Nos meses de junho e julho, observa-se uma queda significativa nos empréstimos, refletindo o recesso de inverno. Em agosto, os empréstimos voltam a subir com o retorno das aulas, mas já apresentam declínio gradual a partir de setembro, reforçando que o segundo semestre pode ter menor intensidade de uso.\n",
    "\n",
    "Os meses com menor demanda são dezembro e janeiro, período típico de férias de verão. Portanto, os melhores meses para programação de férias dos colaboradores e realização de atividades administrativas, treinamentos ou inventário de acervo são:\n",
    "\n",
    "Baixa demanda: dezembro, janeiro, julho\n",
    "\n",
    "Alta demanda: março e agosto (confirmando a suspeita da diretoria)"
   ]
  },
  {
   "cell_type": "markdown",
   "id": "7574d0c5",
   "metadata": {},
   "source": [
    "### Análise Horária de Empréstimos\n",
    "\n",
    "O objetivo é contar a quantidade de empréstimos realizados por `hora`."
   ]
  },
  {
   "cell_type": "code",
   "execution_count": 121,
   "id": "0ef5bcc4",
   "metadata": {},
   "outputs": [
    {
     "data": {
      "text/plain": [
       "data_emprestimo\n",
       "0         61\n",
       "6         18\n",
       "7      21610\n",
       "8     112655\n",
       "9     142340\n",
       "10    199204\n",
       "11    189040\n",
       "12    155847\n",
       "13    135350\n",
       "14    162548\n",
       "15    179270\n",
       "16    226504\n",
       "17    197008\n",
       "18    196390\n",
       "19    118796\n",
       "20    153059\n",
       "21     67767\n",
       "22       460\n",
       "23        54\n",
       "Name: id_emprestimo, dtype: int64"
      ]
     },
     "execution_count": 121,
     "metadata": {},
     "output_type": "execute_result"
    }
   ],
   "source": [
    "emprestimos_hora = emprestimos.groupby(emprestimos['data_emprestimo'].dt.hour)['id_emprestimo'].count()\n",
    "emprestimos_hora"
   ]
  },
  {
   "cell_type": "code",
   "execution_count": 122,
   "id": "bc3e4b0b",
   "metadata": {},
   "outputs": [
    {
     "data": {
      "text/html": [
       "<div>\n",
       "<style scoped>\n",
       "    .dataframe tbody tr th:only-of-type {\n",
       "        vertical-align: middle;\n",
       "    }\n",
       "\n",
       "    .dataframe tbody tr th {\n",
       "        vertical-align: top;\n",
       "    }\n",
       "\n",
       "    .dataframe thead th {\n",
       "        text-align: right;\n",
       "    }\n",
       "</style>\n",
       "<table border=\"1\" class=\"dataframe\">\n",
       "  <thead>\n",
       "    <tr style=\"text-align: right;\">\n",
       "      <th></th>\n",
       "      <th>hora</th>\n",
       "      <th>quantidade_emprestimos</th>\n",
       "    </tr>\n",
       "  </thead>\n",
       "  <tbody>\n",
       "    <tr>\n",
       "      <th>0</th>\n",
       "      <td>0</td>\n",
       "      <td>61</td>\n",
       "    </tr>\n",
       "    <tr>\n",
       "      <th>1</th>\n",
       "      <td>6</td>\n",
       "      <td>18</td>\n",
       "    </tr>\n",
       "    <tr>\n",
       "      <th>2</th>\n",
       "      <td>7</td>\n",
       "      <td>21610</td>\n",
       "    </tr>\n",
       "    <tr>\n",
       "      <th>3</th>\n",
       "      <td>8</td>\n",
       "      <td>112655</td>\n",
       "    </tr>\n",
       "  </tbody>\n",
       "</table>\n",
       "</div>"
      ],
      "text/plain": [
       "   hora  quantidade_emprestimos\n",
       "0     0                      61\n",
       "1     6                      18\n",
       "2     7                   21610\n",
       "3     8                  112655"
      ]
     },
     "execution_count": 122,
     "metadata": {},
     "output_type": "execute_result"
    }
   ],
   "source": [
    "# Resetando o índice e renomeando as colunas\n",
    "emprestimos_por_hora = emprestimos_hora.reset_index()\n",
    "emprestimos_por_hora.columns = ['hora', 'quantidade_emprestimos']\n",
    "\n",
    "# Verificando o resultado\n",
    "emprestimos_por_hora.head(4)"
   ]
  },
  {
   "cell_type": "markdown",
   "id": "58d050a6",
   "metadata": {},
   "source": [
    "### Plotando a relação Exemplares Emprestados x Hora"
   ]
  },
  {
   "cell_type": "code",
   "execution_count": 123,
   "id": "a45c1f0d",
   "metadata": {},
   "outputs": [
    {
     "data": {
      "image/png": "[encoded data removed]",
      "text/plain": [
       "<Figure size 1000x600 with 1 Axes>"
      ]
     },
     "metadata": {},
     "output_type": "display_data"
    }
   ],
   "source": [
    "# Plotando o gráfico de linha\n",
    "plt.figure(figsize=(10, 6))\n",
    "plt.plot(emprestimos_por_hora['hora'], emprestimos_por_hora['quantidade_emprestimos'], marker='o', linestyle='-', color='g')\n",
    "\n",
    "# Adicionando título e rótulos aos eixos\n",
    "plt.title('Quantidade de Empréstimos por Hora')\n",
    "plt.xlabel('Hora')\n",
    "plt.ylabel('Quantidade de Empréstimos')\n",
    "\n",
    "# Forçando a exibição de todos os anos no eixo X\n",
    "plt.xticks(ticks=emprestimos_por_hora['hora'])\n",
    "\n",
    "# Exibindo o gráfico\n",
    "plt.grid(True)\n",
    "plt.show()"
   ]
  },
  {
   "cell_type": "markdown",
   "id": "d415e82f",
   "metadata": {},
   "source": [
    "### Análise Gráfica\n",
    "\n",
    "A distribuição horária dos empréstimos ao longo do dia revela um padrão concentrado no horário comercial. O fluxo começa a aumentar às 8h, com picos de atendimento entre 10h e 17h, especialmente às 16h, que registra o maior volume de empréstimos. Após às 20h, o movimento é praticamente inexistente.\n",
    "\n",
    "Essa concentração indica que o horário de maior demanda por atendimento ao usuário ocorre entre 9h e 18h. Portanto:\n",
    "\n",
    "Atividades que demandam foco e não envolvam atendimento ao público (como reuniões internas, processamento técnico ou capacitações) devem ser priorizadas fora do intervalo de 9h–18h, especialmente antes das 8h ou após as 18h, ou ainda entre 12h e 13h, onde há uma leve queda na curva.\n",
    "\n",
    "A alocação de pessoal deve ser reforçada entre 10h e 17h, com foco especial nas 14h–17h, que concentram os maiores volumes."
   ]
  },
  {
   "cell_type": "markdown",
   "id": "cb210595",
   "metadata": {},
   "source": [
    "### Exportação dos Dados\n",
    "\n",
    "Exportamos os novos DataFrames para o desafio04, para utilização posterior."
   ]
  },
  {
   "cell_type": "code",
   "execution_count": 124,
   "id": "f99276fb",
   "metadata": {},
   "outputs": [],
   "source": [
    "# Exportando o DataFrame para csv para uso no desafio03\n",
    "\n",
    "df.to_csv('../desafio04/dataset_completo.csv', index = False)\n",
    "emprestimos_por_ano.to_csv('../desafio04/emprestimo_ano.csv', index = False)\n",
    "emprestimos_por_mes.to_csv('../desafio04/emprestimo_mes.csv', index = False)\n",
    "emprestimos_por_hora.to_csv('../desafio04/emprestimo_hora.csv', index = False)"
   ]
  },
  {
   "cell_type": "code",
   "execution_count": null,
   "id": "cdf4ca3c",
   "metadata": {},
   "outputs": [],
   "source": []
  }
 ],
 "metadata": {
  "kernelspec": {
   "display_name": "venv",
   "language": "python",
   "name": "python3"
  },
  "language_info": {
   "codemirror_mode": {
    "name": "ipython",
    "version": 3
   },
   "file_extension": ".py",
   "mimetype": "text/x-python",
   "name": "python",
   "nbconvert_exporter": "python",
   "pygments_lexer": "ipython3",
   "version": "3.12.3"
  }
 },
 "nbformat": 4,
 "nbformat_minor": 5
}
