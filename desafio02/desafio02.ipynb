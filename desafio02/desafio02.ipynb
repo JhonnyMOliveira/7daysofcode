{
 "cells": [
  {
   "cell_type": "markdown",
   "id": "b5b8989c",
   "metadata": {},
   "source": [
    "# Dia 2 - Limpeza e Enriquecimento de Dados\n",
    "\n",
    "Neste segundo desafio do #7DaysOfCode, vamos manipular e preparar os dados da biblioteca. O foco será a limpeza da base e a criação de uma nova coluna classificando as obras de acordo com a CDU (Classificação Decimal Universal).\n",
    "\n",
    "Vamos nessa!"
   ]
  },
  {
   "cell_type": "markdown",
   "id": "3aa1fe66",
   "metadata": {},
   "source": [
    "### Importando bibliotecas"
   ]
  },
  {
   "cell_type": "code",
   "execution_count": 30,
   "id": "5d32975a",
   "metadata": {},
   "outputs": [],
   "source": [
    "import pandas as pd"
   ]
  },
  {
   "cell_type": "markdown",
   "id": "a84ea49e",
   "metadata": {},
   "source": [
    "### Importação do Dataset\n",
    "\n",
    "Importamos o dataset gerado no Desafio 01, que está salvo como `dataset_completo.csv`.\n"
   ]
  },
  {
   "cell_type": "code",
   "execution_count": 39,
   "id": "c05f8c5f",
   "metadata": {},
   "outputs": [],
   "source": [
    "# Carregando o DataFrame\n",
    "df = pd.read_csv('../desafio02/dataset_completo.csv')"
   ]
  },
  {
   "cell_type": "code",
   "execution_count": 40,
   "id": "2150f2a9",
   "metadata": {},
   "outputs": [
    {
     "data": {
      "text/html": [
       "<div>\n",
       "<style scoped>\n",
       "    .dataframe tbody tr th:only-of-type {\n",
       "        vertical-align: middle;\n",
       "    }\n",
       "\n",
       "    .dataframe tbody tr th {\n",
       "        vertical-align: top;\n",
       "    }\n",
       "\n",
       "    .dataframe thead th {\n",
       "        text-align: right;\n",
       "    }\n",
       "</style>\n",
       "<table border=\"1\" class=\"dataframe\">\n",
       "  <thead>\n",
       "    <tr style=\"text-align: right;\">\n",
       "      <th></th>\n",
       "      <th>id_emprestimo</th>\n",
       "      <th>codigo_barras</th>\n",
       "      <th>data_renovacao</th>\n",
       "      <th>data_emprestimo</th>\n",
       "      <th>data_devolucao</th>\n",
       "      <th>matricula_ou_siape</th>\n",
       "      <th>tipo_vinculo_usuario</th>\n",
       "      <th>id_exemplar</th>\n",
       "      <th>colecao</th>\n",
       "      <th>biblioteca</th>\n",
       "      <th>status_material</th>\n",
       "      <th>localizacao</th>\n",
       "      <th>registro_sistema</th>\n",
       "    </tr>\n",
       "  </thead>\n",
       "  <tbody>\n",
       "    <tr>\n",
       "      <th>0</th>\n",
       "      <td>709684</td>\n",
       "      <td>L095049</td>\n",
       "      <td>NaN</td>\n",
       "      <td>2010-01-04 07:44:10.721</td>\n",
       "      <td>2010-01-05 16:26:12.662</td>\n",
       "      <td>2.008023e+09</td>\n",
       "      <td>ALUNO DE GRADUAÇÃO</td>\n",
       "      <td>13259.0</td>\n",
       "      <td>Acervo Circulante</td>\n",
       "      <td>Biblioteca Central Zila Mamede</td>\n",
       "      <td>REGULAR</td>\n",
       "      <td>630.0</td>\n",
       "      <td>4225.0</td>\n",
       "    </tr>\n",
       "    <tr>\n",
       "      <th>1</th>\n",
       "      <td>709685</td>\n",
       "      <td>L167050</td>\n",
       "      <td>NaN</td>\n",
       "      <td>2010-01-04 07:44:10.750</td>\n",
       "      <td>2010-01-12 07:34:13.934</td>\n",
       "      <td>2.008023e+09</td>\n",
       "      <td>ALUNO DE GRADUAÇÃO</td>\n",
       "      <td>70865.0</td>\n",
       "      <td>Acervo Circulante</td>\n",
       "      <td>Biblioteca Central Zila Mamede</td>\n",
       "      <td>REGULAR</td>\n",
       "      <td>647.0</td>\n",
       "      <td>25009.0</td>\n",
       "    </tr>\n",
       "    <tr>\n",
       "      <th>2</th>\n",
       "      <td>709686</td>\n",
       "      <td>2006017618</td>\n",
       "      <td>2010-01-26 08:07:01.738</td>\n",
       "      <td>2010-01-04 08:08:44.081</td>\n",
       "      <td>2010-02-25 07:36:25.800</td>\n",
       "      <td>2.008112e+09</td>\n",
       "      <td>ALUNO DE PÓS-GRADUAÇÃO</td>\n",
       "      <td>195347.0</td>\n",
       "      <td>Acervo Circulante</td>\n",
       "      <td>Biblioteca Setorial Prof. Rodolfo Helinski - E...</td>\n",
       "      <td>REGULAR</td>\n",
       "      <td>640.0</td>\n",
       "      <td>75019.0</td>\n",
       "    </tr>\n",
       "  </tbody>\n",
       "</table>\n",
       "</div>"
      ],
      "text/plain": [
       "   id_emprestimo codigo_barras           data_renovacao  \\\n",
       "0         709684       L095049                      NaN   \n",
       "1         709685       L167050                      NaN   \n",
       "2         709686    2006017618  2010-01-26 08:07:01.738   \n",
       "\n",
       "           data_emprestimo           data_devolucao  matricula_ou_siape  \\\n",
       "0  2010-01-04 07:44:10.721  2010-01-05 16:26:12.662        2.008023e+09   \n",
       "1  2010-01-04 07:44:10.750  2010-01-12 07:34:13.934        2.008023e+09   \n",
       "2  2010-01-04 08:08:44.081  2010-02-25 07:36:25.800        2.008112e+09   \n",
       "\n",
       "     tipo_vinculo_usuario  id_exemplar            colecao  \\\n",
       "0      ALUNO DE GRADUAÇÃO      13259.0  Acervo Circulante   \n",
       "1      ALUNO DE GRADUAÇÃO      70865.0  Acervo Circulante   \n",
       "2  ALUNO DE PÓS-GRADUAÇÃO     195347.0  Acervo Circulante   \n",
       "\n",
       "                                          biblioteca status_material  \\\n",
       "0                     Biblioteca Central Zila Mamede         REGULAR   \n",
       "1                     Biblioteca Central Zila Mamede         REGULAR   \n",
       "2  Biblioteca Setorial Prof. Rodolfo Helinski - E...         REGULAR   \n",
       "\n",
       "   localizacao  registro_sistema  \n",
       "0        630.0            4225.0  \n",
       "1        647.0           25009.0  \n",
       "2        640.0           75019.0  "
      ]
     },
     "execution_count": 40,
     "metadata": {},
     "output_type": "execute_result"
    }
   ],
   "source": [
    "df.head(3)"
   ]
  },
  {
   "cell_type": "markdown",
   "id": "7591c23c",
   "metadata": {},
   "source": [
    "### Remoção de Coluna Irrelevante\n",
    "\n",
    "A coluna `registro_sistema` não traz informações úteis para a análise e foi removida.\n"
   ]
  },
  {
   "cell_type": "code",
   "execution_count": 41,
   "id": "dd01a193",
   "metadata": {},
   "outputs": [
    {
     "data": {
      "text/html": [
       "<div>\n",
       "<style scoped>\n",
       "    .dataframe tbody tr th:only-of-type {\n",
       "        vertical-align: middle;\n",
       "    }\n",
       "\n",
       "    .dataframe tbody tr th {\n",
       "        vertical-align: top;\n",
       "    }\n",
       "\n",
       "    .dataframe thead th {\n",
       "        text-align: right;\n",
       "    }\n",
       "</style>\n",
       "<table border=\"1\" class=\"dataframe\">\n",
       "  <thead>\n",
       "    <tr style=\"text-align: right;\">\n",
       "      <th></th>\n",
       "      <th>id_emprestimo</th>\n",
       "      <th>codigo_barras</th>\n",
       "      <th>data_renovacao</th>\n",
       "      <th>data_emprestimo</th>\n",
       "      <th>data_devolucao</th>\n",
       "      <th>matricula_ou_siape</th>\n",
       "      <th>tipo_vinculo_usuario</th>\n",
       "      <th>id_exemplar</th>\n",
       "      <th>colecao</th>\n",
       "      <th>biblioteca</th>\n",
       "      <th>status_material</th>\n",
       "      <th>localizacao</th>\n",
       "    </tr>\n",
       "  </thead>\n",
       "  <tbody>\n",
       "    <tr>\n",
       "      <th>0</th>\n",
       "      <td>709684</td>\n",
       "      <td>L095049</td>\n",
       "      <td>NaN</td>\n",
       "      <td>2010-01-04 07:44:10.721</td>\n",
       "      <td>2010-01-05 16:26:12.662</td>\n",
       "      <td>2.008023e+09</td>\n",
       "      <td>ALUNO DE GRADUAÇÃO</td>\n",
       "      <td>13259.0</td>\n",
       "      <td>Acervo Circulante</td>\n",
       "      <td>Biblioteca Central Zila Mamede</td>\n",
       "      <td>REGULAR</td>\n",
       "      <td>630.0</td>\n",
       "    </tr>\n",
       "    <tr>\n",
       "      <th>1</th>\n",
       "      <td>709685</td>\n",
       "      <td>L167050</td>\n",
       "      <td>NaN</td>\n",
       "      <td>2010-01-04 07:44:10.750</td>\n",
       "      <td>2010-01-12 07:34:13.934</td>\n",
       "      <td>2.008023e+09</td>\n",
       "      <td>ALUNO DE GRADUAÇÃO</td>\n",
       "      <td>70865.0</td>\n",
       "      <td>Acervo Circulante</td>\n",
       "      <td>Biblioteca Central Zila Mamede</td>\n",
       "      <td>REGULAR</td>\n",
       "      <td>647.0</td>\n",
       "    </tr>\n",
       "  </tbody>\n",
       "</table>\n",
       "</div>"
      ],
      "text/plain": [
       "   id_emprestimo codigo_barras data_renovacao          data_emprestimo  \\\n",
       "0         709684       L095049            NaN  2010-01-04 07:44:10.721   \n",
       "1         709685       L167050            NaN  2010-01-04 07:44:10.750   \n",
       "\n",
       "            data_devolucao  matricula_ou_siape tipo_vinculo_usuario  \\\n",
       "0  2010-01-05 16:26:12.662        2.008023e+09   ALUNO DE GRADUAÇÃO   \n",
       "1  2010-01-12 07:34:13.934        2.008023e+09   ALUNO DE GRADUAÇÃO   \n",
       "\n",
       "   id_exemplar            colecao                      biblioteca  \\\n",
       "0      13259.0  Acervo Circulante  Biblioteca Central Zila Mamede   \n",
       "1      70865.0  Acervo Circulante  Biblioteca Central Zila Mamede   \n",
       "\n",
       "  status_material  localizacao  \n",
       "0         REGULAR        630.0  \n",
       "1         REGULAR        647.0  "
      ]
     },
     "execution_count": 41,
     "metadata": {},
     "output_type": "execute_result"
    }
   ],
   "source": [
    "# Removendo a coluna 'registro_sistema'\n",
    "\n",
    "df = df.drop(columns = ['registro_sistema'])\n",
    "df.head(2)"
   ]
  },
  {
   "cell_type": "markdown",
   "id": "04caad9b",
   "metadata": {},
   "source": [
    "### Conversão de Tipos\n",
    "\n",
    "Transformamos a coluna `matricula_ou_siape` em string para melhor leitura e compatibilidade.\n"
   ]
  },
  {
   "cell_type": "code",
   "execution_count": 34,
   "id": "c20b4678",
   "metadata": {},
   "outputs": [
    {
     "data": {
      "text/html": [
       "<div>\n",
       "<style scoped>\n",
       "    .dataframe tbody tr th:only-of-type {\n",
       "        vertical-align: middle;\n",
       "    }\n",
       "\n",
       "    .dataframe tbody tr th {\n",
       "        vertical-align: top;\n",
       "    }\n",
       "\n",
       "    .dataframe thead th {\n",
       "        text-align: right;\n",
       "    }\n",
       "</style>\n",
       "<table border=\"1\" class=\"dataframe\">\n",
       "  <thead>\n",
       "    <tr style=\"text-align: right;\">\n",
       "      <th></th>\n",
       "      <th>id_emprestimo</th>\n",
       "      <th>codigo_barras</th>\n",
       "      <th>data_renovacao</th>\n",
       "      <th>data_emprestimo</th>\n",
       "      <th>data_devolucao</th>\n",
       "      <th>matricula_ou_siape</th>\n",
       "      <th>tipo_vinculo_usuario</th>\n",
       "      <th>id_exemplar</th>\n",
       "      <th>colecao</th>\n",
       "      <th>biblioteca</th>\n",
       "      <th>status_material</th>\n",
       "      <th>localizacao</th>\n",
       "    </tr>\n",
       "  </thead>\n",
       "  <tbody>\n",
       "    <tr>\n",
       "      <th>0</th>\n",
       "      <td>709684</td>\n",
       "      <td>L095049</td>\n",
       "      <td>NaN</td>\n",
       "      <td>2010-01-04 07:44:10.721</td>\n",
       "      <td>2010-01-05 16:26:12.662</td>\n",
       "      <td>2008023265.0</td>\n",
       "      <td>ALUNO DE GRADUAÇÃO</td>\n",
       "      <td>13259.0</td>\n",
       "      <td>Acervo Circulante</td>\n",
       "      <td>Biblioteca Central Zila Mamede</td>\n",
       "      <td>REGULAR</td>\n",
       "      <td>630.0</td>\n",
       "    </tr>\n",
       "    <tr>\n",
       "      <th>1</th>\n",
       "      <td>709685</td>\n",
       "      <td>L167050</td>\n",
       "      <td>NaN</td>\n",
       "      <td>2010-01-04 07:44:10.750</td>\n",
       "      <td>2010-01-12 07:34:13.934</td>\n",
       "      <td>2008023265.0</td>\n",
       "      <td>ALUNO DE GRADUAÇÃO</td>\n",
       "      <td>70865.0</td>\n",
       "      <td>Acervo Circulante</td>\n",
       "      <td>Biblioteca Central Zila Mamede</td>\n",
       "      <td>REGULAR</td>\n",
       "      <td>647.0</td>\n",
       "    </tr>\n",
       "  </tbody>\n",
       "</table>\n",
       "</div>"
      ],
      "text/plain": [
       "   id_emprestimo codigo_barras data_renovacao          data_emprestimo  \\\n",
       "0         709684       L095049            NaN  2010-01-04 07:44:10.721   \n",
       "1         709685       L167050            NaN  2010-01-04 07:44:10.750   \n",
       "\n",
       "            data_devolucao matricula_ou_siape tipo_vinculo_usuario  \\\n",
       "0  2010-01-05 16:26:12.662       2008023265.0   ALUNO DE GRADUAÇÃO   \n",
       "1  2010-01-12 07:34:13.934       2008023265.0   ALUNO DE GRADUAÇÃO   \n",
       "\n",
       "   id_exemplar            colecao                      biblioteca  \\\n",
       "0      13259.0  Acervo Circulante  Biblioteca Central Zila Mamede   \n",
       "1      70865.0  Acervo Circulante  Biblioteca Central Zila Mamede   \n",
       "\n",
       "  status_material  localizacao  \n",
       "0         REGULAR        630.0  \n",
       "1         REGULAR        647.0  "
      ]
     },
     "execution_count": 34,
     "metadata": {},
     "output_type": "execute_result"
    }
   ],
   "source": [
    "# Convertendo a coluna 'matricula_ou_siape' em uma string\n",
    "\n",
    "df['matricula_ou_siape'] = df['matricula_ou_siape'].astype(str)\n",
    "df.head(2)"
   ]
  },
  {
   "cell_type": "markdown",
   "id": "87b9494c",
   "metadata": {},
   "source": [
    "### Verificação da Coluna \"localizacao\"\n",
    "\n",
    "Aqui fazemos uma checagem da coluna `localizacao`, que trará a base para a classificação das obras.\n"
   ]
  },
  {
   "cell_type": "code",
   "execution_count": 42,
   "id": "2b06edb3",
   "metadata": {},
   "outputs": [
    {
     "data": {
      "text/plain": [
       "0    630.0\n",
       "1    647.0\n",
       "2    640.0\n",
       "3    609.0\n",
       "4    686.0\n",
       "5    698.0\n",
       "6    698.0\n",
       "7    645.0\n",
       "8    658.0\n",
       "9    697.0\n",
       "Name: localizacao, dtype: float64"
      ]
     },
     "execution_count": 42,
     "metadata": {},
     "output_type": "execute_result"
    }
   ],
   "source": [
    "df['localizacao'].head(10)"
   ]
  },
  {
   "cell_type": "code",
   "execution_count": 43,
   "id": "18732462",
   "metadata": {},
   "outputs": [
    {
     "data": {
      "text/plain": [
       "dtype('float64')"
      ]
     },
     "execution_count": 43,
     "metadata": {},
     "output_type": "execute_result"
    }
   ],
   "source": [
    "df['localizacao'].dtype"
   ]
  },
  {
   "cell_type": "markdown",
   "id": "eeac62b1",
   "metadata": {},
   "source": [
    "### Tratamento e Conversão da Coluna \"localizacao\"\n",
    "\n",
    "Preenchemos valores nulos com 0, forçamos o tipo `float`, e depois `int`, para padronizar a coluna antes da classificação.\n"
   ]
  },
  {
   "cell_type": "code",
   "execution_count": 44,
   "id": "fe1d2d35",
   "metadata": {},
   "outputs": [
    {
     "data": {
      "text/plain": [
       "dtype('int64')"
      ]
     },
     "execution_count": 44,
     "metadata": {},
     "output_type": "execute_result"
    }
   ],
   "source": [
    "# Convertendo a coluna 'localizacao' do tipo float para int\n",
    "\n",
    "df['localizacao'] = df['localizacao'].fillna(0).astype(float).astype(int)\n",
    "df['localizacao'].dtype"
   ]
  },
  {
   "cell_type": "code",
   "execution_count": 45,
   "id": "181593cf",
   "metadata": {},
   "outputs": [
    {
     "data": {
      "text/plain": [
       "0    630\n",
       "1    647\n",
       "2    640\n",
       "3    609\n",
       "4    686\n",
       "5    698\n",
       "6    698\n",
       "7    645\n",
       "8    658\n",
       "9    697\n",
       "Name: localizacao, dtype: int64"
      ]
     },
     "execution_count": 45,
     "metadata": {},
     "output_type": "execute_result"
    }
   ],
   "source": [
    "df['localizacao'].head(10)"
   ]
  },
  {
   "cell_type": "markdown",
   "id": "3269a9d6",
   "metadata": {},
   "source": [
    "### Função de Classificação CDU\n",
    "\n",
    "Criamos uma função que mapeia os valores da coluna `localizacao` de acordo com a CDU, categorizando os livros por área temática.\n"
   ]
  },
  {
   "cell_type": "code",
   "execution_count": 46,
   "id": "f479a331",
   "metadata": {},
   "outputs": [],
   "source": [
    "def classificar_cdu(valor):\n",
    "    try:\n",
    "        valor = int(str(valor).strip())  # Garantir conversão para inteiro\n",
    "        if 0 <= valor <= 99:\n",
    "            return 'Generalidades. Ciência e conhecimento'\n",
    "        elif 100 <= valor <= 199:\n",
    "            return 'Filosofia e psicologia'\n",
    "        elif 200 <= valor <= 299:\n",
    "            return 'Religião'\n",
    "        elif 300 <= valor <= 399:\n",
    "            return 'Ciências sociais'\n",
    "        elif 400 <= valor <= 499:\n",
    "            return 'Classe vaga'\n",
    "        elif 500 <= valor <= 599:\n",
    "            return 'Matemática e ciências naturais'\n",
    "        elif 600 <= valor <= 699:\n",
    "            return 'Ciências aplicadas'\n",
    "        elif 700 <= valor <= 799:\n",
    "            return 'Belas artes'\n",
    "        elif 800 <= valor <= 899:\n",
    "            return 'Linguagem. Língua. Linguística'\n",
    "        elif 900 <= valor <= 999:\n",
    "            return 'Geografia. Biografia. História'\n",
    "        else:\n",
    "            return 'Código fora da faixa CDU'\n",
    "    except:\n",
    "        return 'Valor inválido'\n",
    "\n"
   ]
  },
  {
   "cell_type": "markdown",
   "id": "a9fa155f",
   "metadata": {},
   "source": [
    "### Aplicando a Classificação\n",
    "\n",
    "Com a função pronta, aplicamos sobre a coluna `localizacao` para gerar a nova coluna `classe_cdu`.\n"
   ]
  },
  {
   "cell_type": "code",
   "execution_count": 47,
   "id": "faa360ec",
   "metadata": {},
   "outputs": [
    {
     "data": {
      "text/html": [
       "<div>\n",
       "<style scoped>\n",
       "    .dataframe tbody tr th:only-of-type {\n",
       "        vertical-align: middle;\n",
       "    }\n",
       "\n",
       "    .dataframe tbody tr th {\n",
       "        vertical-align: top;\n",
       "    }\n",
       "\n",
       "    .dataframe thead th {\n",
       "        text-align: right;\n",
       "    }\n",
       "</style>\n",
       "<table border=\"1\" class=\"dataframe\">\n",
       "  <thead>\n",
       "    <tr style=\"text-align: right;\">\n",
       "      <th></th>\n",
       "      <th>id_emprestimo</th>\n",
       "      <th>codigo_barras</th>\n",
       "      <th>data_renovacao</th>\n",
       "      <th>data_emprestimo</th>\n",
       "      <th>data_devolucao</th>\n",
       "      <th>matricula_ou_siape</th>\n",
       "      <th>tipo_vinculo_usuario</th>\n",
       "      <th>id_exemplar</th>\n",
       "      <th>colecao</th>\n",
       "      <th>biblioteca</th>\n",
       "      <th>status_material</th>\n",
       "      <th>localizacao</th>\n",
       "      <th>classe_cdu</th>\n",
       "    </tr>\n",
       "  </thead>\n",
       "  <tbody>\n",
       "    <tr>\n",
       "      <th>0</th>\n",
       "      <td>709684</td>\n",
       "      <td>L095049</td>\n",
       "      <td>NaN</td>\n",
       "      <td>2010-01-04 07:44:10.721</td>\n",
       "      <td>2010-01-05 16:26:12.662</td>\n",
       "      <td>2.008023e+09</td>\n",
       "      <td>ALUNO DE GRADUAÇÃO</td>\n",
       "      <td>13259.0</td>\n",
       "      <td>Acervo Circulante</td>\n",
       "      <td>Biblioteca Central Zila Mamede</td>\n",
       "      <td>REGULAR</td>\n",
       "      <td>630</td>\n",
       "      <td>Ciências aplicadas</td>\n",
       "    </tr>\n",
       "    <tr>\n",
       "      <th>1</th>\n",
       "      <td>709685</td>\n",
       "      <td>L167050</td>\n",
       "      <td>NaN</td>\n",
       "      <td>2010-01-04 07:44:10.750</td>\n",
       "      <td>2010-01-12 07:34:13.934</td>\n",
       "      <td>2.008023e+09</td>\n",
       "      <td>ALUNO DE GRADUAÇÃO</td>\n",
       "      <td>70865.0</td>\n",
       "      <td>Acervo Circulante</td>\n",
       "      <td>Biblioteca Central Zila Mamede</td>\n",
       "      <td>REGULAR</td>\n",
       "      <td>647</td>\n",
       "      <td>Ciências aplicadas</td>\n",
       "    </tr>\n",
       "    <tr>\n",
       "      <th>2</th>\n",
       "      <td>709686</td>\n",
       "      <td>2006017618</td>\n",
       "      <td>2010-01-26 08:07:01.738</td>\n",
       "      <td>2010-01-04 08:08:44.081</td>\n",
       "      <td>2010-02-25 07:36:25.800</td>\n",
       "      <td>2.008112e+09</td>\n",
       "      <td>ALUNO DE PÓS-GRADUAÇÃO</td>\n",
       "      <td>195347.0</td>\n",
       "      <td>Acervo Circulante</td>\n",
       "      <td>Biblioteca Setorial Prof. Rodolfo Helinski - E...</td>\n",
       "      <td>REGULAR</td>\n",
       "      <td>640</td>\n",
       "      <td>Ciências aplicadas</td>\n",
       "    </tr>\n",
       "  </tbody>\n",
       "</table>\n",
       "</div>"
      ],
      "text/plain": [
       "   id_emprestimo codigo_barras           data_renovacao  \\\n",
       "0         709684       L095049                      NaN   \n",
       "1         709685       L167050                      NaN   \n",
       "2         709686    2006017618  2010-01-26 08:07:01.738   \n",
       "\n",
       "           data_emprestimo           data_devolucao  matricula_ou_siape  \\\n",
       "0  2010-01-04 07:44:10.721  2010-01-05 16:26:12.662        2.008023e+09   \n",
       "1  2010-01-04 07:44:10.750  2010-01-12 07:34:13.934        2.008023e+09   \n",
       "2  2010-01-04 08:08:44.081  2010-02-25 07:36:25.800        2.008112e+09   \n",
       "\n",
       "     tipo_vinculo_usuario  id_exemplar            colecao  \\\n",
       "0      ALUNO DE GRADUAÇÃO      13259.0  Acervo Circulante   \n",
       "1      ALUNO DE GRADUAÇÃO      70865.0  Acervo Circulante   \n",
       "2  ALUNO DE PÓS-GRADUAÇÃO     195347.0  Acervo Circulante   \n",
       "\n",
       "                                          biblioteca status_material  \\\n",
       "0                     Biblioteca Central Zila Mamede         REGULAR   \n",
       "1                     Biblioteca Central Zila Mamede         REGULAR   \n",
       "2  Biblioteca Setorial Prof. Rodolfo Helinski - E...         REGULAR   \n",
       "\n",
       "   localizacao          classe_cdu  \n",
       "0          630  Ciências aplicadas  \n",
       "1          647  Ciências aplicadas  \n",
       "2          640  Ciências aplicadas  "
      ]
     },
     "execution_count": 47,
     "metadata": {},
     "output_type": "execute_result"
    }
   ],
   "source": [
    "df['classe_cdu'] = df['localizacao'].apply(classificar_cdu)\n",
    "df.head(3)"
   ]
  },
  {
   "cell_type": "markdown",
   "id": "976dba26",
   "metadata": {},
   "source": [
    "### Exportação dos Dados\n",
    "\n",
    "Exportamos o novo DataFrame para o desafio03 com os dados limpos e enriquecidos com a classificação temática.\n"
   ]
  },
  {
   "cell_type": "code",
   "execution_count": 48,
   "id": "9d9390b4",
   "metadata": {},
   "outputs": [],
   "source": [
    "# Exportando o DataFrame para csv para uso no desafio03\n",
    "\n",
    "df.to_csv('../desafio03/dataset_completo.csv', index = False)"
   ]
  },
  {
   "cell_type": "code",
   "execution_count": null,
   "id": "22ea6930",
   "metadata": {},
   "outputs": [],
   "source": []
  }
 ],
 "metadata": {
  "kernelspec": {
   "display_name": "venv",
   "language": "python",
   "name": "python3"
  },
  "language_info": {
   "codemirror_mode": {
    "name": "ipython",
    "version": 3
   },
   "file_extension": ".py",
   "mimetype": "text/x-python",
   "name": "python",
   "nbconvert_exporter": "python",
   "pygments_lexer": "ipython3",
   "version": "3.12.3"
  }
 },
 "nbformat": 4,
 "nbformat_minor": 5
}
